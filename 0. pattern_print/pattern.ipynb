{
 "cells": [
  {
   "cell_type": "code",
   "execution_count": 6,
   "metadata": {},
   "outputs": [
    {
     "name": "stdout",
     "output_type": "stream",
     "text": [
      "* * * * * \n",
      "* * * * \n",
      "* * * \n",
      "* * \n",
      "* \n"
     ]
    }
   ],
   "source": [
    "def right_ang_t(num):\n",
    "    for i in range(num):\n",
    "        for j in range(num- i):\n",
    "            print(\"*\", end=\" \")\n",
    "        print()\n",
    "right_ang_t(5)"
   ]
  },
  {
   "cell_type": "code",
   "execution_count": 7,
   "metadata": {},
   "outputs": [
    {
     "name": "stdout",
     "output_type": "stream",
     "text": [
      "* \n",
      "* * \n",
      "* * * \n",
      "* * * * \n",
      "* * * * * \n"
     ]
    }
   ],
   "source": [
    "def triangle(num):\n",
    "    for i in range(num):\n",
    "        for j in range(1 + i):\n",
    "            print(\"*\", end=\" \")\n",
    "        print()\n",
    "triangle(5)"
   ]
  },
  {
   "cell_type": "code",
   "execution_count": 16,
   "metadata": {},
   "outputs": [
    {
     "name": "stdout",
     "output_type": "stream",
     "text": [
      "* \n",
      "* * \n",
      "* * * \n",
      "* * * * \n",
      "* * * * * \n"
     ]
    }
   ],
   "source": [
    "class Triangle:\n",
    "    def triangle (num):\n",
    "        for i in range(num):\n",
    "            for j in range(1 + i):\n",
    "                print(\"*\", end=\" \")\n",
    "            print()\n",
    " \n",
    "right_ang_t = Triangle.triangle(5)\n"
   ]
  },
  {
   "cell_type": "code",
   "execution_count": null,
   "metadata": {},
   "outputs": [],
   "source": []
  }
 ],
 "metadata": {
  "interpreter": {
   "hash": "8a48770bb3c76ada6ec5eec9b53a504a3323976b81e1d1b6d1fc077cb2f95093"
  },
  "kernelspec": {
   "display_name": "Python 3.10.1 64-bit",
   "language": "python",
   "name": "python3"
  },
  "language_info": {
   "name": "python",
   "version": "3.10.1"
  },
  "orig_nbformat": 4
 },
 "nbformat": 4,
 "nbformat_minor": 2
}
